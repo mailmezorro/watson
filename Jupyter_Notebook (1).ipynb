{
 "cells": [
  {
   "cell_type": "markdown",
   "metadata": {},
   "source": [
    "<center>\n",
    "    <img src=\"https://cf-courses-data.s3.us.cloud-object-storage.appdomain.cloud/IBMDeveloperSkillsNetwork-DS0105EN-SkillsNetwork/labs/Module2/images/SN_web_lightmode.png\" width=\"300\" alt=\"cognitiveclass.ai logo\">\n",
    "</center>\n"
   ]
  },
  {
   "cell_type": "markdown",
   "metadata": {},
   "source": [
    "#### Add your code below following the instructions given in the course\n"
   ]
  },
  {
   "cell_type": "markdown",
   "metadata": {},
   "source": [
    "<h1> My Jupyter Notebook on IBM Watson Studio </h1>"
   ]
  },
  {
   "cell_type": "markdown",
   "metadata": {},
   "source": [
    "<b> Daniel G. </b>  <br>\n",
    "Software Engineer"
   ]
  },
  {
   "cell_type": "markdown",
   "metadata": {},
   "source": [
    "*I am intersted in data science because it has huge opportunities to operate with data. It's something that is changinge the world and I want to be part of it.*"
   ]
  },
  {
   "cell_type": "markdown",
   "metadata": {},
   "source": [
    "<h3> The first numbers of fibonacci added together and assigned to variable fibonacci. Then print the variable fibonacci. :) </h3>"
   ]
  },
  {
   "cell_type": "code",
   "execution_count": 4,
   "metadata": {},
   "outputs": [
    {
     "name": "stdout",
     "output_type": "stream",
     "text": [
      "20\n"
     ]
    }
   ],
   "source": [
    "fibonacci = 0 + 1 + 1 +2 + 3 +5 + 8\n",
    "print (fibonacci)"
   ]
  },
  {
   "cell_type": "markdown",
   "metadata": {},
   "source": [
    "![fishy](https://www1.wdr.de/stichtag/stichtagjanuarzwoelf138~_v-ARDFotogalerie.jpg)\n",
    "\n",
    "[Wiki](https://en.wikipedia.org/wiki/Fibonacci)\n",
    "\n",
    "\n",
    "<h2> Grateful Work:</h2>\n",
    "\n",
    "* Liber Abaci (1202), a book on calculations (English translation by Laurence Sigler, 2002)[25]\n",
    "* Practica Geometriae (1220), a compendium of techniques in surveying, the measurement and partition of areas and volumes, and other topics in practical geometry (English translation by Barnabas Hughes, Springer, 2008).\n",
    "*Flos (1225), solutions to problems posed by Johannes of Palermo\n",
    "*Liber quadratorum (\"The Book of Squares\") on Diophantine equations, dedicated to Emperor Frederick II. See in particular congruum and the Brahmagupta–Fibonacci identity.\n",
    "*Di minor guisa (on commercial arithmetic; lost)\n",
    "*Commentary on Book X of Euclid's Elements (lost)\n",
    "\n",
    "<b>Notable Quote:</b>\n",
    "<blockquote>\n",
    "    <p>“If by chance I have omitted anything more or less proper or necessary, I beg forgiveness, since there is no one who is without fault and circumspect in all matters.”</p>\n",
    "</blockquote>"
   ]
  },
  {
   "cell_type": "code",
   "execution_count": null,
   "metadata": {},
   "outputs": [],
   "source": []
  }
 ],
 "metadata": {
  "kernelspec": {
   "display_name": "Python 3",
   "language": "python",
   "name": "python3"
  },
  "language_info": {
   "codemirror_mode": {
    "name": "ipython",
    "version": 3
   },
   "file_extension": ".py",
   "mimetype": "text/x-python",
   "name": "python",
   "nbconvert_exporter": "python",
   "pygments_lexer": "ipython3",
   "version": "3.8.5"
  }
 },
 "nbformat": 4,
 "nbformat_minor": 4
}
